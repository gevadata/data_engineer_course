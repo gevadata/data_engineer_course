{
 "cells": [
  {
   "cell_type": "markdown",
   "id": "0a98925f",
   "metadata": {},
   "source": [
    "# Data Engineering Course \n",
    "### Main topics and need "
   ]
  },
  {
   "cell_type": "markdown",
   "id": "e79570bf",
   "metadata": {},
   "source": [
    "The goal of this doc is gather a list of items needed as part of the Data Engineering Course. <br>\n",
    "This is an initial list and can be modified and changeded.\n"
   ]
  },
  {
   "cell_type": "markdown",
   "id": "dfe5c786",
   "metadata": {},
   "source": [
    "## Method & Priciples "
   ]
  },
  {
   "cell_type": "markdown",
   "id": "ce400f45",
   "metadata": {},
   "source": [
    "1. Many practice and hands-on \n",
    "2. We may use online materials such as : \n",
    "- https://victorytale.com/best-data-engineering-courses/\n",
    "- https://www.coursera.org/professional-certificates/ibm-data-engineer?action=enroll"
   ]
  },
  {
   "cell_type": "markdown",
   "id": "f809a4c3",
   "metadata": {},
   "source": [
    "## Partners and coperations "
   ]
  },
  {
   "cell_type": "markdown",
   "id": "8e417b83",
   "metadata": {},
   "source": [
    "1. Tmarim : https://www.tmarim.org/\n",
    "2. try to : AWS\n",
    "3. try to : Tapping Data - Engineers \n",
    "4. optional : visin.bi / oracle / DataBricks "
   ]
  },
  {
   "cell_type": "markdown",
   "id": "6e8f6072",
   "metadata": {},
   "source": [
    "## Main topics"
   ]
  },
  {
   "cell_type": "markdown",
   "id": "f5c8510e",
   "metadata": {},
   "source": [
    "### Data"
   ]
  },
  {
   "cell_type": "markdown",
   "id": "9b2a240f-f750-450b-a329-07aaefdf52d7",
   "metadata": {},
   "source": [
    "1. Understand data.\n",
    "2. SQL.\n",
    "3. Data in system - learn, undertand, \n",
    "4. Data Design patterns - (OLTP, OLAP, DCNF, Star schema, Snowflacke, bigtable)\n",
    "5. NoSQL (Document db)"
   ]
  },
  {
   "cell_type": "markdown",
   "id": "847479e7",
   "metadata": {},
   "source": [
    "### Software"
   ]
  },
  {
   "cell_type": "markdown",
   "id": "b610367e",
   "metadata": {},
   "source": [
    "1. Python (details below)\n",
    "2. Linux \n",
    "3. Git"
   ]
  },
  {
   "cell_type": "markdown",
   "id": "493289a6",
   "metadata": {},
   "source": [
    "## Python"
   ]
  },
  {
   "cell_type": "markdown",
   "id": "3a06de36",
   "metadata": {},
   "source": [
    "<ol>\n",
    "<li>Crash Course</li> \n",
    "<li>request</li>\n",
    "<li>O.O - ? </li>\n",
    "<li>Decorators</li>\n",
    "<li>List comperhensions</li>\n",
    "<li>Pandas</li>\n",
    "<li>sqlite3</li>\n",
    "<li>boto3</li>\n",
    "<li>Flask / FASTAPI</li>\n",
    "</ol>"
   ]
  },
  {
   "cell_type": "markdown",
   "id": "79e6ecad",
   "metadata": {},
   "source": [
    "## Cloud and infrustructure "
   ]
  },
  {
   "cell_type": "markdown",
   "id": "4478adb7",
   "metadata": {},
   "source": [
    "Cloud\n",
    "- AWS\n",
    "<ol>\n",
    "<li>EC2</li>\n",
    "<li>S3</li>\n",
    "<li>Glue</li>\n",
    "<li>Athena</li>\n",
    "<li>Redshift</li>\n",
    "<li>RDS</li>\n",
    "<li>Kinesis</li>\n",
    "<li>Firehouse</li>\n",
    "\n",
    "</ol>\n",
    "\n"
   ]
  },
  {
   "cell_type": "markdown",
   "id": "f37fc57f",
   "metadata": {},
   "source": [
    "## Modern Pipeline and ETL"
   ]
  },
  {
   "cell_type": "markdown",
   "id": "859ebd0f",
   "metadata": {},
   "source": [
    "### the GaD framework\n",
    "<ol>\n",
    "<li>Airflow</li>\n",
    "<li>DBT</li>\n",
    "<li>Great Expectations</li>\n",
    "<li>AirByte</li>\n",
    "</ol>"
   ]
  },
  {
   "cell_type": "markdown",
   "id": "cbbb0e5f",
   "metadata": {},
   "source": [
    "## Big Data "
   ]
  },
  {
   "cell_type": "markdown",
   "id": "e0ee89d2",
   "metadata": {},
   "source": [
    "<ol>\n",
    "<li>Spark</li>\n",
    "<li>Hadop</li>\n",
    "<li>Kinesis</li>\n",
    "<li>FireHose</li>\n",
    "<li>DataBricks</li>\n",
    "</ol>"
   ]
  },
  {
   "cell_type": "markdown",
   "id": "8290bc87",
   "metadata": {},
   "source": [
    "## Advance topics "
   ]
  },
  {
   "cell_type": "markdown",
   "id": "b2124a2c",
   "metadata": {},
   "source": [
    "<ol>\n",
    "<li>DataOps</li>\n",
    "<li>MLOPS</li>\n",
    "</ol>"
   ]
  },
  {
   "cell_type": "markdown",
   "id": "0ce3cd58",
   "metadata": {},
   "source": [
    "# Soft skills "
   ]
  },
  {
   "cell_type": "markdown",
   "id": "cd4a1e1a",
   "metadata": {},
   "source": [
    "<ol>\n",
    "<li>Know youself</li>\n",
    "<li>Present Projects IN english</li>\n",
    "</ol>"
   ]
  },
  {
   "cell_type": "markdown",
   "id": "7b873303",
   "metadata": {},
   "source": [
    "# Tools and Methods"
   ]
  },
  {
   "cell_type": "markdown",
   "id": "56fdeb97",
   "metadata": {},
   "source": [
    "### Elementor platform \n",
    "- Install\n",
    "- Build web site <br>\n",
    "- Connect to db and get data + modifications  \n",
    "- Connect to Google Analytics \n",
    "- Get the data \n",
    "- Show the data "
   ]
  },
  {
   "cell_type": "code",
   "execution_count": null,
   "id": "aaacb679",
   "metadata": {},
   "outputs": [],
   "source": []
  }
 ],
 "metadata": {
  "kernelspec": {
   "display_name": "Python 3",
   "language": "python",
   "name": "python3"
  },
  "language_info": {
   "codemirror_mode": {
    "name": "ipython",
    "version": 3
   },
   "file_extension": ".py",
   "mimetype": "text/x-python",
   "name": "python",
   "nbconvert_exporter": "python",
   "pygments_lexer": "ipython3",
   "version": "3.8.8"
  },
  "vp": {
   "base_numbering": 1,
   "nav_menu": {},
   "number_sections": true,
   "sideBar": true,
   "title_cell": "VisualPython",
   "title_sidebar": "VisualPython",
   "vpPosition": {
    "height": "calc(100% - 180px)",
    "right": "10px",
    "top": "110px",
    "width": "50%"
   },
   "vp_cell": false,
   "vp_section_display": true,
   "vp_window_display": false
  }
 },
 "nbformat": 4,
 "nbformat_minor": 5
}
